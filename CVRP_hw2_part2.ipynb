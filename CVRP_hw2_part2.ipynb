{
 "cells": [
  {
   "cell_type": "markdown",
   "metadata": {
    "id": "W37lUOmT9yle"
   },
   "source": [
    "# CVRP HW2 - part 2\n",
    "In this part, you will implement **unconditional** and **conditional** PixelCNN on MNIST dataset.\n",
    "To have faster training efficency, GPU acceleration is recommended. However, don't worry if you reach your GPU usage limit on Colab. This part can still be completed within a reasonable timeframe using a standard CPU.\n",
    "\n",
    "PixelCNNs are a type of autoregressive generative model that generate images by modeling the joint distribution of pixels as a product of conditional distributions. In PixelCNN, the pixels are generated one by one in a specific order, with each pixel conditioned on the previously generated pixels. The model uses masked convolutions to ensure that the prediction of each pixel only depends on the already generated pixels, following the raster scan order. For more details, please refer to Lecture 13.\n",
    "\n",
    "Some notes:\n",
    "- This part takes 50 points in total\n",
    "- There is **no questions** in this part\n",
    "- If you made any modifications on the cells with \"DO NOT MODIFY\" label, please be sure to write a detailed README, otherwise, TA will have a hard time grading your code...\n",
    "- If you find it's hard to put all the things into a single notebook, you can have additional files. Make sure you have a README as well.\n",
    "- Please zip all the notebooks or files you have to a compressed zip file before submission."
   ]
  },
  {
   "cell_type": "code",
   "execution_count": 1,
   "metadata": {
    "id": "-iydqiNU5fGu"
   },
   "outputs": [],
   "source": [
    "import torch\n",
    "import torch.nn as nn\n",
    "import torch.nn.functional as F\n",
    "\n",
    "from torchvision import datasets\n",
    "from torchvision import transforms\n",
    "import matplotlib.pyplot as plt\n",
    "from tqdm.notebook import tqdm\n",
    "import numpy as np\n",
    "from mpl_toolkits.mplot3d import Axes3D\n",
    "\n",
    "device = torch.device('cuda' if torch.cuda.is_available() else 'cpu')\n"
   ]
  },
  {
   "cell_type": "markdown",
   "metadata": {
    "id": "Yb2COTm-ocln"
   },
   "source": [
    "### MNIST dataset loader\n",
    "Please do not modify this cell"
   ]
  },
  {
   "cell_type": "code",
   "execution_count": 2,
   "metadata": {
    "id": "-J1xVnVE_6Zm"
   },
   "outputs": [],
   "source": [
    "# NOTE: DO NOT MODIFY\n",
    "\n",
    "def binarize_image(tensor):\n",
    "    return (tensor > 0.5).float()\n",
    "\n",
    "tensor_transform = transforms.Compose([\n",
    "    transforms.ToTensor(),\n",
    "    transforms.Lambda(binarize_image)\n",
    "])\n",
    "\n",
    "batch_size = 128\n",
    "train_dataset = datasets.MNIST(root = \"./data\",\n",
    "\t\t\t\t\t\t\ttrain = True,\n",
    "\t\t\t\t\t\t\tdownload = True,\n",
    "\t\t\t\t\t\t\ttransform = tensor_transform)\n",
    "test_dataset = datasets.MNIST(root = \"./data\",\n",
    "\t\t\t\t\t\t\ttrain = False,\n",
    "\t\t\t\t\t\t\tdownload = True,\n",
    "\t\t\t\t\t\t\ttransform = tensor_transform)\n",
    "\n",
    "train_loader = torch.utils.data.DataLoader(dataset = train_dataset,\n",
    "\t\t\t\t\t\t\t\t\t\tbatch_size = batch_size,\n",
    "\t\t\t\t\t\t\t\t\t\tshuffle = True)\n",
    "test_loader = torch.utils.data.DataLoader(dataset = test_dataset,\n",
    "\t\t\t\t\t\t\t\t\t\tbatch_size = batch_size,\n",
    "\t\t\t\t\t\t\t\t\t\tshuffle = False)\n"
   ]
  },
  {
   "cell_type": "markdown",
   "metadata": {
    "id": "0_5PFYwtohYY"
   },
   "source": [
    "## **PixelCNN**\n",
    "\n",
    "Tasks:\n",
    "- [15 pts] Implement Masked Convolution by finishing the `MaskedConv2d()` function\n",
    "- [15 pts] Implement PixelCNN with your `MaskedConv2d()`\n",
    "- The training function for unconditional PixelCNN is provided, there is no need to modify `train()`"
   ]
  },
  {
   "cell_type": "code",
   "execution_count": 3,
   "metadata": {
    "id": "jDICmZADIiUE"
   },
   "outputs": [],
   "source": [
    "bce = F.binary_cross_entropy\n",
    "\n",
    "def train(dataloader, model, optimizer, epochs):\n",
    "    losses = []\n",
    "\n",
    "    for epoch in tqdm(range(epochs), desc='Epochs'):\n",
    "        running_loss = 0.0\n",
    "\n",
    "        for iter, (images, labels) in enumerate(dataloader):\n",
    "            images = images.to(device)\n",
    "            tgt = images.clone()\n",
    "            pred = model(images)\n",
    "            loss = bce(pred, tgt)\n",
    "\n",
    "            optimizer.zero_grad()\n",
    "            loss.backward()\n",
    "            optimizer.step()\n",
    "\n",
    "            running_loss += loss.item()\n",
    "\n",
    "            avg_loss = running_loss * batch_size / len(train_dataset)\n",
    "            losses.append(loss.item())\n",
    "\n",
    "        tqdm.write(f'Epoch [{epoch+1}/{epochs}], Average Loss: {avg_loss:.4f}')\n",
    "\n",
    "    return losses\n"
   ]
  },
  {
   "cell_type": "markdown",
   "metadata": {
    "id": "N0mqbPsCopVJ"
   },
   "source": [
    "### Masked Convolution\n",
    "The `MaskedConv2d()` function applies a mask to the convolutional filters in a 2D convolutional layer. The mask ensures that each pixel is only influenced by the pixels that have been generated before it. The function should allow for both type A and type B masks, where type A masks do not allow the central pixel to influence itself, and type B masks do."
   ]
  },
  {
   "cell_type": "code",
   "execution_count": null,
   "metadata": {
    "id": "46O03X-498n0"
   },
   "outputs": [],
   "source": [
    "class MaskedConv2d(nn.Conv2d):\n",
    "    def __init__(self, in_channels, out_channels, kernel_size, mask_type, stride=1, padding=0, bias=True):\n",
    "        super().__init__(in_channels, out_channels, kernel_size, stride, padding, bias=bias)\n",
    "        \n",
    "        assert mask_type in ['A', 'B'], \"mask_type must be either 'A' or 'B'\"\n",
    "        \n",
    "        self.register_buffer('mask', torch.ones_like(self.weight))\n",
    "        kH, kW = self.kernel_size\n",
    "        center_h, center_w = kH // 2, kW // 2\n",
    "        \n",
    "        # here i zero out pixels in the filter that shouldn't influence the current pixel\n",
    "        self.mask[:, :, center_h + 1:] = 0\n",
    "        self.mask[:, :, center_h, center_w + (mask_type == 'B'):] = 0\n",
    "\n",
    "    def forward(self, x):\n",
    "        # below i apply the mask to the convolutional filters before forward(x)\n",
    "        self.weight.data *= self.mask\n",
    "        return super().forward(x)"
   ]
  },
  {
   "cell_type": "markdown",
   "metadata": {
    "id": "XYUg7AjHottB"
   },
   "source": [
    "### Implement PixelCNN\n",
    "Using your `MaskedConv2d()` function, implement the PixelCNN architecture. Your implementation should include several masked convolutional layers, nonlinear activations, and any necessary normalization layers. Ensure that your model is capable of generating images pixel by pixel."
   ]
  },
  {
   "cell_type": "code",
   "execution_count": null,
   "metadata": {
    "id": "hrG8n5WJAo51"
   },
   "outputs": [],
   "source": [
    "class PixelCNN(nn.Module):\n",
    "    def __init__(self):\n",
    "        super().__init__()\n",
    "        \n",
    "        self.masked_conv = MaskedConv2d()\n",
    "        \n",
    "        self.conv_layers = nn.ModuleList([\n",
    "            nn.Sequential(\n",
    "                nn.Conv2d(64, 64, kernel_size=7, padding=3),\n",
    "                nn.BatchNorm2d(64),\n",
    "                nn.ReLU(),\n",
    "                nn.Conv2d(64, 64, kernel_size=7, padding=3),\n",
    "                nn.BatchNorm2d(64),\n",
    "                nn.ReLU()\n",
    "            ) for _ in range(7)  \n",
    "        ])\n",
    "        \n",
    "        self.output_layers = nn.Sequential(\n",
    "            nn.Conv2d(64, 32, kernel_size=1),\n",
    "            nn.BatchNorm2d(32),\n",
    "            nn.ReLU(),\n",
    "            nn.Conv2d(32, 1, kernel_size=1),\n",
    "            nn.Sigmoid() \n",
    "        )\n",
    "\n",
    "    def forward(self, x):\n",
    "        out = self.masked_conv(x)\n",
    "        \n",
    "        for conv_block in self.conv_layers:\n",
    "            residual = out\n",
    "            out = conv_block(out)\n",
    "            out = out + residual\n",
    "            out = F.relu(out)\n",
    "        \n",
    "        out = self.output_layers(out)\n",
    "        \n",
    "        return out"
   ]
  },
  {
   "cell_type": "markdown",
   "metadata": {
    "id": "S2KxDaEBo-9Z"
   },
   "source": [
    "### Training\n",
    "Train your PixelCNN model on the MNIST dataset. We will use Cross-Entropy Loss (BCE) as the training objective. This is equal to maximizing likelihood for binary sequence autoregressive models. After training, evaluate the model using the provided code for unconditional generation of MNIST digits. You may need to adjust hyperparameters such as the learning rate, number of epochs, and batch size to achieve good results."
   ]
  },
  {
   "cell_type": "code",
   "execution_count": null,
   "metadata": {
    "id": "_n_2PGRUAzou"
   },
   "outputs": [
    {
     "data": {
      "application/vnd.jupyter.widget-view+json": {
       "model_id": "7dd3533592b248c795350687f759cc27",
       "version_major": 2,
       "version_minor": 0
      },
      "text/plain": [
       "Epochs:   0%|          | 0/100 [00:00<?, ?it/s]"
      ]
     },
     "metadata": {},
     "output_type": "display_data"
    },
    {
     "name": "stdout",
     "output_type": "stream",
     "text": [
      "Epoch [1/100], Average Loss: 0.0889\n",
      "Epoch [2/100], Average Loss: 0.0045\n",
      "Epoch [3/100], Average Loss: 0.0014\n",
      "Epoch [4/100], Average Loss: 0.0007\n",
      "Epoch [5/100], Average Loss: 0.0004\n",
      "Epoch [6/100], Average Loss: 0.0002\n",
      "Epoch [7/100], Average Loss: 0.0002\n",
      "Epoch [8/100], Average Loss: 0.0001\n",
      "Epoch [9/100], Average Loss: 0.0001\n",
      "Epoch [10/100], Average Loss: 0.0001\n",
      "Epoch [11/100], Average Loss: 0.0000\n",
      "Epoch [12/100], Average Loss: 0.0000\n",
      "Epoch [13/100], Average Loss: 0.0000\n",
      "Epoch [14/100], Average Loss: 0.0000\n",
      "Epoch [15/100], Average Loss: 0.0000\n",
      "Epoch [16/100], Average Loss: 0.0000\n",
      "Epoch [17/100], Average Loss: 0.0000\n",
      "Epoch [18/100], Average Loss: 0.0000\n",
      "Epoch [19/100], Average Loss: 0.0000\n",
      "Epoch [20/100], Average Loss: 0.0000\n",
      "Epoch [21/100], Average Loss: 0.0000\n",
      "Epoch [22/100], Average Loss: 0.0000\n",
      "Epoch [23/100], Average Loss: 0.0000\n",
      "Epoch [24/100], Average Loss: 0.0000\n",
      "Epoch [25/100], Average Loss: 0.0000\n",
      "Epoch [26/100], Average Loss: 0.0000\n",
      "Epoch [27/100], Average Loss: 0.0000\n",
      "Epoch [28/100], Average Loss: 0.0000\n",
      "Epoch [29/100], Average Loss: 0.0000\n",
      "Epoch [30/100], Average Loss: 0.0000\n",
      "Epoch [31/100], Average Loss: 0.0000\n",
      "Epoch [32/100], Average Loss: 0.0000\n",
      "Epoch [33/100], Average Loss: 0.0000\n",
      "Epoch [34/100], Average Loss: 0.0000\n",
      "Epoch [35/100], Average Loss: 0.0000\n",
      "Epoch [36/100], Average Loss: 0.0000\n",
      "Epoch [37/100], Average Loss: 0.0000\n",
      "Epoch [38/100], Average Loss: 0.0000\n",
      "Epoch [39/100], Average Loss: 0.0000\n",
      "Epoch [40/100], Average Loss: 0.0000\n",
      "Epoch [41/100], Average Loss: 0.0000\n",
      "Epoch [42/100], Average Loss: 0.0000\n",
      "Epoch [43/100], Average Loss: 0.0000\n",
      "Epoch [44/100], Average Loss: 0.0000\n",
      "Epoch [45/100], Average Loss: 0.0000\n",
      "Epoch [46/100], Average Loss: 0.0000\n",
      "Epoch [47/100], Average Loss: 0.0000\n",
      "Epoch [48/100], Average Loss: 0.0000\n",
      "Epoch [49/100], Average Loss: 0.0000\n",
      "Epoch [50/100], Average Loss: 0.0000\n",
      "Epoch [51/100], Average Loss: 0.0000\n",
      "Epoch [52/100], Average Loss: 0.0000\n",
      "Epoch [53/100], Average Loss: 0.0000\n",
      "Epoch [54/100], Average Loss: 0.0000\n",
      "Epoch [55/100], Average Loss: 0.0000\n",
      "Epoch [56/100], Average Loss: 0.0000\n",
      "Epoch [57/100], Average Loss: 0.0000\n",
      "Epoch [58/100], Average Loss: 0.0000\n",
      "Epoch [59/100], Average Loss: 0.0000\n",
      "Epoch [60/100], Average Loss: 0.0000\n",
      "Epoch [61/100], Average Loss: 0.0000\n",
      "Epoch [62/100], Average Loss: 0.0000\n",
      "Epoch [63/100], Average Loss: 0.0000\n",
      "Epoch [64/100], Average Loss: 0.0000\n",
      "Epoch [65/100], Average Loss: 0.0000\n",
      "Epoch [66/100], Average Loss: 0.0000\n",
      "Epoch [67/100], Average Loss: 0.0000\n",
      "Epoch [68/100], Average Loss: 0.0000\n",
      "Epoch [69/100], Average Loss: 0.0000\n",
      "Epoch [70/100], Average Loss: 0.0000\n",
      "Epoch [71/100], Average Loss: 0.0000\n",
      "Epoch [72/100], Average Loss: 0.0000\n",
      "Epoch [73/100], Average Loss: 0.0000\n",
      "Epoch [74/100], Average Loss: 0.0000\n",
      "Epoch [75/100], Average Loss: 0.0000\n",
      "Epoch [76/100], Average Loss: 0.0000\n",
      "Epoch [77/100], Average Loss: 0.0000\n",
      "Epoch [78/100], Average Loss: 0.0000\n",
      "Epoch [79/100], Average Loss: 0.0000\n",
      "Epoch [80/100], Average Loss: 0.0000\n",
      "Epoch [81/100], Average Loss: 0.0000\n",
      "Epoch [82/100], Average Loss: 0.0000\n",
      "Epoch [83/100], Average Loss: 0.0000\n",
      "Epoch [84/100], Average Loss: 0.0000\n",
      "Epoch [85/100], Average Loss: 0.0000\n",
      "Epoch [86/100], Average Loss: 0.0000\n",
      "Epoch [87/100], Average Loss: 0.0000\n",
      "Epoch [88/100], Average Loss: 0.0000\n",
      "Epoch [89/100], Average Loss: 0.0000\n",
      "Epoch [90/100], Average Loss: 0.0000\n",
      "Epoch [91/100], Average Loss: 0.0000\n",
      "Epoch [92/100], Average Loss: 0.0000\n",
      "Epoch [93/100], Average Loss: 0.0000\n",
      "Epoch [94/100], Average Loss: 0.0000\n",
      "Epoch [95/100], Average Loss: 0.0000\n",
      "Epoch [96/100], Average Loss: 0.0000\n",
      "Epoch [97/100], Average Loss: 0.0000\n",
      "Epoch [98/100], Average Loss: 0.0000\n",
      "Epoch [99/100], Average Loss: 0.0000\n",
      "Epoch [100/100], Average Loss: 0.0000\n",
      "Model saved to pixelcnn_mnist.pth\n"
     ]
    }
   ],
   "source": [
    "epochs = 100\n",
    "model = PixelCNN().to(device)\n",
    "optimizer = torch.optim.Adam(model.parameters(), lr=0.001)\n",
    "\n",
    "log = train(train_loader, model, optimizer, epochs)\n",
    "\n",
    "# saving the model in case i lose kernel\n",
    "model_save_path = 'pixelcnn_mnist.pth'\n",
    "torch.save({\n",
    "    'model_state_dict': model.state_dict(),\n",
    "    'optimizer_state_dict': optimizer.state_dict(),\n",
    "    'epochs': epochs,\n",
    "    'loss': log\n",
    "}, model_save_path)\n",
    "\n",
    "print(f\"Model saved to {model_save_path}\")"
   ]
  },
  {
   "cell_type": "markdown",
   "metadata": {},
   "source": [
    "## The loss hits 0 after 11th epoch and stays so till 100th epoch. it ran for 100 epochs since i was from the system otherwise i could have saved some significant training time. I ran it in another cell for 10 epochs that i deleted for submission to confirm if the performace remained similar."
   ]
  },
  {
   "cell_type": "markdown",
   "metadata": {
    "id": "TQnZFPm_pDkc"
   },
   "source": [
    "### Evaluation (Reconstruction)\n",
    "The following code is to verify your PixelCNN is able to reconstruct the image from MNIST test set."
   ]
  },
  {
   "cell_type": "code",
   "execution_count": 7,
   "metadata": {
    "id": "VFFyeeEjxsxQ"
   },
   "outputs": [
    {
     "data": {
      "image/png": "[encoded data removed]",
      "text/plain": [
       "<Figure size 1500x1500 with 64 Axes>"
      ]
     },
     "metadata": {},
     "output_type": "display_data"
    }
   ],
   "source": [
    "H, W = 28, 28\n",
    "\n",
    "with torch.no_grad():\n",
    "  for iter, (images, labels) in enumerate(test_loader):\n",
    "      images = images.to(device)\n",
    "      pred = model(images)\n",
    "\n",
    "      for i in range(H):\n",
    "          for j in range(W):\n",
    "              pred[:, :, i, j] = torch.bernoulli(pred[:, :, i, j], out=pred[:, :, i, j])\n",
    "      break\n",
    "\n",
    "samples = pred.detach().cpu().numpy().transpose(0, 2, 3, 1)\n",
    "fig, axes = plt.subplots(8, 8, figsize=(15, 15))\n",
    "\n",
    "for i in range(64):\n",
    "    sample = samples[i]\n",
    "    row, col = divmod(i, 8)\n",
    "    axes[row, col].imshow(sample, cmap='gray')\n",
    "    axes[row, col].axis('off')\n",
    "\n",
    "plt.tight_layout()\n",
    "plt.show()"
   ]
  },
  {
   "cell_type": "markdown",
   "metadata": {
    "id": "mqr0yIvYpL2_"
   },
   "source": [
    "### Evaluation (Generation)"
   ]
  },
  {
   "cell_type": "code",
   "execution_count": 8,
   "metadata": {
    "id": "tQseF8t5BpPU"
   },
   "outputs": [
    {
     "data": {
      "image/png": "[encoded data removed]",
      "text/plain": [
       "<Figure size 1500x1500 with 64 Axes>"
      ]
     },
     "metadata": {},
     "output_type": "display_data"
    }
   ],
   "source": [
    "samples = torch.zeros(size=(64, 1, H, W)).to(device)\n",
    "with torch.no_grad():\n",
    "    for i in range(H):\n",
    "        for j in range(W):\n",
    "            if j > 0 and i > 0:\n",
    "                out = model(samples)\n",
    "                samples[:, :, i, j] = torch.bernoulli(out[:, :, i, j], out=samples[:, :, i, j])\n",
    "\n",
    "samples = samples.cpu().numpy().transpose(0, 2, 3, 1)\n",
    "fig, axes = plt.subplots(8, 8, figsize=(15, 15))\n",
    "\n",
    "for i in range(64):\n",
    "    sample = samples[i]\n",
    "    row, col = divmod(i, 8)\n",
    "    axes[row, col].imshow(sample, cmap='gray')\n",
    "    axes[row, col].axis('off')\n",
    "\n",
    "plt.tight_layout()\n",
    "plt.show()"
   ]
  },
  {
   "cell_type": "markdown",
   "metadata": {
    "id": "252Jr5orpZGc"
   },
   "source": [
    "## **Conditional PixelCNN**\n",
    "Conditional PixelCNNs extend the basic PixelCNN model by conditioning the generation process on additional information, such as class labels. In this part, you will implement and train a Conditional PixelCNN on the MNIST dataset, where the model is conditioned on the digit class labels.\n",
    "\n",
    "Tasks:\n",
    "- [5 pts] Extend your implementation of the `ConditionalMaskedConv2d()` function to incorporate a conditional bias based on class labels\n",
    "- [5 pts] Using your `ConditionalMaskedConv2d()` function, implement the Conditional PixelCNN architecture\n",
    "- [5 pts] Write your own training function. The training process is similar as in unconditional PixelCNN with some changes\n",
    "- [5 pts] Train your Conditional PixelCNN on the MNIST dataset. After training, evaluate the model’s performance on the test set by generating images conditioned on specific digit classes."
   ]
  },
  {
   "cell_type": "code",
   "execution_count": null,
   "metadata": {
    "id": "fKgicaMje-hL"
   },
   "outputs": [],
   "source": [
    "def train_cond(dataloader, model, optimizer, epochs, n_classes):\n",
    "    losses = []\n",
    "    \n",
    "    for epoch in tqdm(range(epochs), desc='Epochs'):\n",
    "        running_loss = 0.0\n",
    "        \n",
    "        for iter, (images, labels) in enumerate(dataloader):\n",
    "            images = images.to(device)\n",
    "            labels = labels.to(device)\n",
    "            labels_onehot = F.one_hot(labels, num_classes=n_classes).float()\n",
    "            tgt = images.clone()\n",
    "            pred = model(images, labels_onehot)\n",
    "            loss = bce(pred, tgt)\n",
    "            \n",
    "            optimizer.zero_grad()\n",
    "            loss.backward()\n",
    "            optimizer.step()\n",
    "            \n",
    "            running_loss += loss.item()\n",
    "            \n",
    "            avg_loss = running_loss * batch_size / len(train_dataset)\n",
    "            losses.append(loss.item())\n",
    "        \n",
    "        tqdm.write(f'Epoch [{epoch+1}/{epochs}], Average Loss: {avg_loss:.4f}')\n",
    "    \n",
    "    return losses"
   ]
  },
  {
   "cell_type": "markdown",
   "metadata": {
    "id": "Nh9gGbKUpfFy"
   },
   "source": [
    "### Conditional Masked Convolution\n",
    "The conditional bias should be added to the output of each convolutional layer $l$ as follows:\n",
    "\n",
    "$W_l * x + b_l + V_{ly}$\n",
    "\n",
    "where $W_l * x + b_l$ represents the masked convolution, $V_l$ is a 2D weight matrix, and $y$ is the one-hot encoded class label. The conditional bias $V_{ly}$ should be broadcasted spatially and added to the output channel-wise."
   ]
  },
  {
   "cell_type": "code",
   "execution_count": null,
   "metadata": {
    "id": "YUEQ-RzyHdrs"
   },
   "outputs": [],
   "source": [
    "class ConditionalMaskedConv2d(MaskedConv2d):\n",
    "    def __init__(self):\n",
    "        super().__init__()\n",
    "        self.conditional_weights = nn.Parameter(torch.randn(64, 10))  # V_l matrix\n",
    "        nn.init.xavier_uniform_(self.conditional_weights)\n",
    "\n",
    "    def forward(self, x, class_condition):\n",
    "        conv_out = super().forward(x)\n",
    "        conditional_bias = torch.matmul(class_condition, self.conditional_weights.t())\n",
    "        conditional_bias = conditional_bias.unsqueeze(-1).unsqueeze(-1)\n",
    "        return conv_out + conditional_bias"
   ]
  },
  {
   "cell_type": "markdown",
   "metadata": {
    "id": "XYhdWZdZpjTy"
   },
   "source": [
    "### Implement Conditional PixelCNN\n",
    "Using your `ConditionalMaskedConv2d()` function, implement the Conditional PixelCNN architecture. Your model should include several conditional masked convolutional layers, with the class label influencing each layer’s output through the conditional bias. The overall architecture should closely resemble the regular PixelCNN but with the additional conditioning on class labels."
   ]
  },
  {
   "cell_type": "code",
   "execution_count": null,
   "metadata": {
    "id": "sjICYyhWeZUI"
   },
   "outputs": [],
   "source": [
    "class ConditionalPixelCNN(nn.Module):\n",
    "    def __init__(self, num_classes):\n",
    "        super().__init__()\n",
    "        \n",
    "        self.masked_conv = ConditionalMaskedConv2d()\n",
    "        \n",
    "        self.conv_layers = nn.ModuleList([\n",
    "            nn.Sequential(\n",
    "                nn.Conv2d(64, 64, kernel_size=7, padding=3),\n",
    "                nn.BatchNorm2d(64),\n",
    "                nn.ReLU(),\n",
    "                nn.Conv2d(64, 64, kernel_size=7, padding=3),\n",
    "                nn.BatchNorm2d(64),\n",
    "                nn.ReLU()\n",
    "            ) for _ in range(7)  \n",
    "        ])\n",
    "        \n",
    "        self.output_layers = nn.Sequential(\n",
    "            nn.Conv2d(64, 32, kernel_size=1),\n",
    "            nn.BatchNorm2d(32),\n",
    "            nn.ReLU(),\n",
    "            nn.Conv2d(32, 1, kernel_size=1),\n",
    "            nn.Sigmoid()  \n",
    "        )\n",
    "\n",
    "    def forward(self, x, class_condition):\n",
    "        out = self.masked_conv(x, class_condition)\n",
    "        \n",
    "        for conv_block in self.conv_layers:\n",
    "            residual = out\n",
    "            out = conv_block(out)\n",
    "            out = out + residual \n",
    "            out = F.relu(out)\n",
    "        \n",
    "        out = self.output_layers(out)\n",
    "        \n",
    "        return out"
   ]
  },
  {
   "cell_type": "markdown",
   "metadata": {
    "id": "0V3Skf2mpoN5"
   },
   "source": [
    "### Training"
   ]
  },
  {
   "cell_type": "code",
   "execution_count": null,
   "metadata": {
    "id": "dXkK2VKIeo3K"
   },
   "outputs": [
    {
     "data": {
      "application/vnd.jupyter.widget-view+json": {
       "model_id": "2abf82dfeff741dd8b3e37266c401bee",
       "version_major": 2,
       "version_minor": 0
      },
      "text/plain": [
       "Epochs:   0%|          | 0/100 [00:00<?, ?it/s]"
      ]
     },
     "metadata": {},
     "output_type": "display_data"
    },
    {
     "name": "stdout",
     "output_type": "stream",
     "text": [
      "Epoch [1/100], Average Loss: 0.0735\n",
      "Epoch [2/100], Average Loss: 0.0037\n",
      "Epoch [3/100], Average Loss: 0.0012\n",
      "Epoch [4/100], Average Loss: 0.0006\n",
      "Epoch [5/100], Average Loss: 0.0003\n",
      "Epoch [6/100], Average Loss: 0.0002\n",
      "Epoch [7/100], Average Loss: 0.0001\n",
      "Epoch [8/100], Average Loss: 0.0001\n",
      "Epoch [9/100], Average Loss: 0.0001\n",
      "Epoch [10/100], Average Loss: 0.0000\n",
      "Epoch [11/100], Average Loss: 0.0000\n",
      "Epoch [12/100], Average Loss: 0.0000\n",
      "Epoch [13/100], Average Loss: 0.0000\n",
      "Epoch [14/100], Average Loss: 0.0000\n",
      "Epoch [15/100], Average Loss: 0.0000\n",
      "Epoch [16/100], Average Loss: 0.0000\n",
      "Epoch [17/100], Average Loss: 0.0000\n",
      "Epoch [18/100], Average Loss: 0.0000\n",
      "Epoch [19/100], Average Loss: 0.0000\n",
      "Epoch [20/100], Average Loss: 0.0000\n",
      "Epoch [21/100], Average Loss: 0.0000\n",
      "Epoch [22/100], Average Loss: 0.0000\n",
      "Epoch [23/100], Average Loss: 0.0000\n",
      "Epoch [24/100], Average Loss: 0.0000\n",
      "Epoch [25/100], Average Loss: 0.0000\n",
      "Epoch [26/100], Average Loss: 0.0000\n",
      "Epoch [27/100], Average Loss: 0.0000\n",
      "Epoch [28/100], Average Loss: 0.0000\n",
      "Epoch [29/100], Average Loss: 0.0000\n",
      "Epoch [30/100], Average Loss: 0.0000\n",
      "Epoch [31/100], Average Loss: 0.0000\n",
      "Epoch [32/100], Average Loss: 0.0000\n",
      "Epoch [33/100], Average Loss: 0.0000\n",
      "Epoch [34/100], Average Loss: 0.0000\n",
      "Epoch [35/100], Average Loss: 0.0000\n",
      "Epoch [36/100], Average Loss: 0.0000\n",
      "Epoch [37/100], Average Loss: 0.0000\n",
      "Epoch [38/100], Average Loss: 0.0000\n",
      "Epoch [39/100], Average Loss: 0.0000\n",
      "Epoch [40/100], Average Loss: 0.0000\n",
      "Epoch [41/100], Average Loss: 0.0000\n",
      "Epoch [42/100], Average Loss: 0.0000\n",
      "Epoch [43/100], Average Loss: 0.0000\n",
      "Epoch [44/100], Average Loss: 0.0000\n",
      "Epoch [45/100], Average Loss: 0.0000\n",
      "Epoch [46/100], Average Loss: 0.0000\n",
      "Epoch [47/100], Average Loss: 0.0000\n",
      "Epoch [48/100], Average Loss: 0.0000\n",
      "Epoch [49/100], Average Loss: 0.0000\n",
      "Epoch [50/100], Average Loss: 0.0000\n",
      "Epoch [51/100], Average Loss: 0.0000\n",
      "Epoch [52/100], Average Loss: 0.0000\n",
      "Epoch [53/100], Average Loss: 0.0000\n",
      "Epoch [54/100], Average Loss: 0.0000\n",
      "Epoch [55/100], Average Loss: 0.0000\n",
      "Epoch [56/100], Average Loss: 0.0000\n",
      "Epoch [57/100], Average Loss: 0.0000\n",
      "Epoch [58/100], Average Loss: 0.0000\n",
      "Epoch [59/100], Average Loss: 0.0000\n",
      "Epoch [60/100], Average Loss: 0.0000\n",
      "Epoch [61/100], Average Loss: 0.0000\n",
      "Epoch [62/100], Average Loss: 0.0000\n",
      "Epoch [63/100], Average Loss: 0.0000\n",
      "Epoch [64/100], Average Loss: 0.0000\n",
      "Epoch [65/100], Average Loss: 0.0000\n",
      "Epoch [66/100], Average Loss: 0.0000\n",
      "Epoch [67/100], Average Loss: 0.0000\n",
      "Epoch [68/100], Average Loss: 0.0000\n",
      "Epoch [69/100], Average Loss: 0.0000\n",
      "Epoch [70/100], Average Loss: 0.0000\n",
      "Epoch [71/100], Average Loss: 0.0000\n",
      "Epoch [72/100], Average Loss: 0.0000\n",
      "Epoch [73/100], Average Loss: 0.0000\n",
      "Epoch [74/100], Average Loss: 0.0000\n",
      "Epoch [75/100], Average Loss: 0.0000\n",
      "Epoch [76/100], Average Loss: 0.0000\n",
      "Epoch [77/100], Average Loss: 0.0000\n",
      "Epoch [78/100], Average Loss: 0.0000\n",
      "Epoch [79/100], Average Loss: 0.0000\n",
      "Epoch [80/100], Average Loss: 0.0000\n",
      "Epoch [81/100], Average Loss: 0.0000\n",
      "Epoch [82/100], Average Loss: 0.0000\n",
      "Epoch [83/100], Average Loss: 0.0000\n",
      "Epoch [84/100], Average Loss: 0.0000\n",
      "Epoch [85/100], Average Loss: 0.0000\n",
      "Epoch [86/100], Average Loss: 0.0000\n",
      "Epoch [87/100], Average Loss: 0.0000\n",
      "Epoch [88/100], Average Loss: 0.0000\n",
      "Epoch [89/100], Average Loss: 0.0000\n",
      "Epoch [90/100], Average Loss: 0.0000\n",
      "Epoch [91/100], Average Loss: 0.0000\n",
      "Epoch [92/100], Average Loss: 0.0000\n",
      "Epoch [93/100], Average Loss: 0.0000\n",
      "Epoch [94/100], Average Loss: 0.0000\n",
      "Epoch [95/100], Average Loss: 0.0000\n",
      "Epoch [96/100], Average Loss: 0.0000\n",
      "Epoch [97/100], Average Loss: 0.0000\n",
      "Epoch [98/100], Average Loss: 0.0000\n",
      "Epoch [99/100], Average Loss: 0.0000\n",
      "Epoch [100/100], Average Loss: 0.0000\n",
      "Model saved to conditional_pixelcnn_mnist.pth\n"
     ]
    }
   ],
   "source": [
    "epochs = 100\n",
    "n_classes = 10\n",
    "model = ConditionalPixelCNN(n_classes).to(device)\n",
    "optimizer = torch.optim.Adam(model.parameters(), lr=0.001)\n",
    "\n",
    "log = train_cond(train_loader, model, optimizer, epochs, n_classes)\n",
    "\n",
    "model_save_path = 'conditional_pixelcnn_mnist.pth'\n",
    "torch.save({\n",
    "    'model_state_dict': model.state_dict(),\n",
    "    'optimizer_state_dict': optimizer.state_dict(),\n",
    "    'epochs': epochs,\n",
    "    'n_classes': n_classes,\n",
    "    'loss': log\n",
    "}, model_save_path)\n",
    "\n",
    "print(f\"Model saved to {model_save_path}\")"
   ]
  },
  {
   "cell_type": "markdown",
   "metadata": {},
   "source": [
    "## Here it converges even earlier :)"
   ]
  },
  {
   "cell_type": "markdown",
   "metadata": {
    "id": "epotdWhTpo62"
   },
   "source": [
    "### Evaluation (Reconstruction)"
   ]
  },
  {
   "cell_type": "code",
   "execution_count": 13,
   "metadata": {
    "id": "KLW9jRCyfiOd"
   },
   "outputs": [
    {
     "data": {
      "image/png": "[encoded data removed]",
      "text/plain": [
       "<Figure size 1500x1500 with 64 Axes>"
      ]
     },
     "metadata": {},
     "output_type": "display_data"
    }
   ],
   "source": [
    "H, W = 28, 28\n",
    "\n",
    "with torch.no_grad():\n",
    "  for iter, (images, labels) in enumerate(test_loader):\n",
    "      images = images.to(device)\n",
    "      labels = labels.to(device)\n",
    "      labels = F.one_hot(labels, num_classes=n_classes).float()\n",
    "      pred = model(images, labels)\n",
    "\n",
    "      for i in range(H):\n",
    "          for j in range(W):\n",
    "              pred[:, :, i, j] = torch.bernoulli(pred[:, :, i, j], out=pred[:, :, i, j])\n",
    "      break\n",
    "\n",
    "samples = pred.detach().cpu().numpy().transpose(0, 2, 3, 1)\n",
    "fig, axes = plt.subplots(8, 8, figsize=(15, 15))\n",
    "\n",
    "for i in range(64):\n",
    "    sample = samples[i]\n",
    "    row, col = divmod(i, 8)\n",
    "    axes[row, col].imshow(sample, cmap='gray')\n",
    "    axes[row, col].axis('off')\n",
    "\n",
    "plt.tight_layout()\n",
    "plt.show()"
   ]
  },
  {
   "cell_type": "markdown",
   "metadata": {
    "id": "hvOHwS6yptWn"
   },
   "source": [
    "### Evaluation (Generation)"
   ]
  },
  {
   "cell_type": "code",
   "execution_count": 14,
   "metadata": {
    "id": "YIGipU7ofRJF"
   },
   "outputs": [
    {
     "data": {
      "image/png": "[encoded data removed]",
      "text/plain": [
       "<Figure size 1500x3000 with 60 Axes>"
      ]
     },
     "metadata": {},
     "output_type": "display_data"
    }
   ],
   "source": [
    "samples = torch.zeros(size=(60, 1, H, W)).to(device)\n",
    "sample_classes = np.sort(np.array([np.arange(n_classes)] * 6).flatten())\n",
    "sample_classes = F.one_hot(torch.tensor(sample_classes), num_classes=n_classes).to(device).float()\n",
    "\n",
    "with torch.no_grad():\n",
    "    for i in range(H):\n",
    "        for j in range(W):\n",
    "            if j > 0 and i > 0:\n",
    "                out = model(samples, sample_classes)\n",
    "                samples[:, :, i, j] = torch.bernoulli(out[:, :, i, j], out=samples[:, :, i, j])\n",
    "\n",
    "samples = samples.cpu().numpy().transpose(0, 2, 3, 1)\n",
    "fig, axes = plt.subplots(10, 6, figsize=(15, 30))\n",
    "\n",
    "for i in range(60):\n",
    "    sample = samples[i]\n",
    "    row, col = divmod(i, 6)\n",
    "    axes[row, col].imshow(sample, cmap='gray')\n",
    "    axes[row, col].axis('off')\n",
    "\n",
    "plt.tight_layout()\n",
    "plt.show()"
   ]
  },
  {
   "cell_type": "code",
   "execution_count": null,
   "metadata": {},
   "outputs": [],
   "source": [
    "idk why generation is doing so poorly compared to reconstruction"
   ]
  }
 ],
 "metadata": {
  "accelerator": "GPU",
  "colab": {
   "gpuType": "T4",
   "machine_shape": "hm",
   "provenance": []
  },
  "kernelspec": {
   "display_name": "pytorch_env",
   "language": "python",
   "name": "python3"
  },
  "language_info": {
   "codemirror_mode": {
    "name": "ipython",
    "version": 3
   },
   "file_extension": ".py",
   "mimetype": "text/x-python",
   "name": "python",
   "nbconvert_exporter": "python",
   "pygments_lexer": "ipython3",
   "version": "3.10.15"
  }
 },
 "nbformat": 4,
 "nbformat_minor": 4
}
